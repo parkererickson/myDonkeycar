{
 "cells": [
  {
   "cell_type": "code",
   "execution_count": 1,
   "metadata": {},
   "outputs": [],
   "source": [
    "from PIL import Image\n",
    "from PIL import ImageOps\n",
    "\n",
    "import os\n",
    "import json"
   ]
  },
  {
   "cell_type": "code",
   "execution_count": 2,
   "metadata": {
    "tags": [
     "outputPrepend",
     "outputPrepend",
     "outputPrepend",
     "outputPrepend",
     "outputPrepend",
     "outputPrepend",
     "outputPrepend",
     "outputPrepend",
     "outputPrepend",
     "outputPrepend",
     "outputPrepend",
     "outputPrepend",
     "outputPrepend",
     "outputPrepend",
     "outputPrepend",
     "outputPrepend"
    ]
   },
   "outputs": [
    {
     "output_type": "stream",
     "name": "stdout",
     "text": "6073\n6073\n"
    }
   ],
   "source": [
    "directory = \"data/tub_11_20-03-29\"\n",
    "newDirectory = \"data/flipped\"\n",
    "\n",
    "numPhotos = 0\n",
    "numRecs = 0\n",
    "\n",
    "for filename in os.listdir(directory):\n",
    "    try:\n",
    "        if filename.endswith(\".jpg\"): \n",
    "            im = Image.open(directory+\"/\"+filename)\n",
    "            im = ImageOps.mirror(im)\n",
    "            flippedName = os.path.splitext(filename)[0]+\"_flipped.jpg\"\n",
    "            im.save(newDirectory+\"/\"+flippedName)\n",
    "            numPhotos += 1\n",
    "        elif filename.endswith(\".json\"):\n",
    "            with open(directory+\"/\"+filename) as json_file:\n",
    "                data = json.load(json_file)\n",
    "            data[\"user/angle\"] *= -1\n",
    "            flippedName = os.path.splitext(filename)[0]+\"_flipped.json\"\n",
    "            with open(newDirectory+\"/\"+flippedName, 'w') as outfile:\n",
    "                json.dump(data, outfile)\n",
    "            numRecs += 1\n",
    "    except:\n",
    "        pass\n",
    "\n",
    "print(numPhotos)\n",
    "print(numRecs)"
   ]
  },
  {
   "cell_type": "code",
   "execution_count": null,
   "metadata": {},
   "outputs": [],
   "source": []
  }
 ],
 "metadata": {
  "language_info": {
   "codemirror_mode": {
    "name": "ipython",
    "version": 3
   },
   "file_extension": ".py",
   "mimetype": "text/x-python",
   "name": "python",
   "nbconvert_exporter": "python",
   "pygments_lexer": "ipython3",
   "version": "3.7.6-final"
  },
  "orig_nbformat": 2,
  "kernelspec": {
   "name": "python37664bitdonkeyconda5b84108278074377a4e2bd1fc4aa4852",
   "display_name": "Python 3.7.6 64-bit ('donkey': conda)"
  }
 },
 "nbformat": 4,
 "nbformat_minor": 2
}